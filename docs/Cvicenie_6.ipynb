{
  "nbformat": 4,
  "nbformat_minor": 0,
  "metadata": {
    "colab": {
      "provenance": [],
      "collapsed_sections": [
        "TWKyn8b3nlj9",
        "Ml1M99CZp9Tz",
        "zCnUi-L7n8W5",
        "7mekM5tcopl9",
        "byf03rN0o5pT",
        "8g1XuURiCr4g",
        "ljUtTwybEIuo",
        "H66SoEFhHdUo"
      ]
    },
    "kernelspec": {
      "name": "python3",
      "display_name": "Python 3"
    },
    "language_info": {
      "name": "python"
    }
  },
  "cells": [
    {
      "cell_type": "markdown",
      "source": [
        "# Základy Pythonu"
      ],
      "metadata": {
        "id": "GXc_6IevnJl5"
      }
    },
    {
      "cell_type": "markdown",
      "source": [
        "## Dátové typy"
      ],
      "metadata": {
        "id": "TWKyn8b3nlj9"
      }
    },
    {
      "cell_type": "markdown",
      "source": [
        "### Boolean - binárny typ (True alebo False)"
      ],
      "metadata": {
        "id": "Ml1M99CZp9Tz"
      }
    },
    {
      "cell_type": "code",
      "source": [
        "boolean1 = True\n",
        "boolean2 = False\n",
        "\n",
        "display(\n",
        "    boolean1,\n",
        "    type(boolean1),\n",
        "    boolean2,\n",
        "    type(boolean2)\n",
        ")"
      ],
      "metadata": {
        "colab": {
          "base_uri": "https://localhost:8080/"
        },
        "id": "x2wBoHCJp_Rw",
        "outputId": "c83e89f3-f40f-4430-8aa9-6c371f98ee13"
      },
      "execution_count": null,
      "outputs": [
        {
          "output_type": "display_data",
          "data": {
            "text/plain": [
              "True"
            ]
          },
          "metadata": {}
        },
        {
          "output_type": "display_data",
          "data": {
            "text/plain": [
              "bool"
            ]
          },
          "metadata": {}
        },
        {
          "output_type": "display_data",
          "data": {
            "text/plain": [
              "False"
            ]
          },
          "metadata": {}
        },
        {
          "output_type": "display_data",
          "data": {
            "text/plain": [
              "bool"
            ]
          },
          "metadata": {}
        }
      ]
    },
    {
      "cell_type": "markdown",
      "source": [
        "#### Logické operácie"
      ],
      "metadata": {
        "id": "oiaE0deqqr17"
      }
    },
    {
      "cell_type": "code",
      "source": [
        "boolean1 and boolean1, boolean1 and boolean2, boolean2 and boolean2"
      ],
      "metadata": {
        "colab": {
          "base_uri": "https://localhost:8080/"
        },
        "id": "ZjsuzGkdqj6H",
        "outputId": "c7d4323c-3a39-496a-cc92-14db66be5c32"
      },
      "execution_count": null,
      "outputs": [
        {
          "output_type": "execute_result",
          "data": {
            "text/plain": [
              "(True, False, False)"
            ]
          },
          "metadata": {},
          "execution_count": 2
        }
      ]
    },
    {
      "cell_type": "code",
      "source": [
        "boolean1 or boolean1, boolean1 or boolean2, boolean2 or boolean2"
      ],
      "metadata": {
        "colab": {
          "base_uri": "https://localhost:8080/"
        },
        "id": "gwN_3an4q7B1",
        "outputId": "26f9a74f-c4a5-4b9c-ad70-a742ab495cb8"
      },
      "execution_count": null,
      "outputs": [
        {
          "output_type": "execute_result",
          "data": {
            "text/plain": [
              "(True, True, False)"
            ]
          },
          "metadata": {},
          "execution_count": 3
        }
      ]
    },
    {
      "cell_type": "code",
      "source": [
        "not boolean1, not boolean2"
      ],
      "metadata": {
        "colab": {
          "base_uri": "https://localhost:8080/"
        },
        "id": "lqTBDQ7GrAMy",
        "outputId": "ff029425-b8a2-4252-802e-74d24b7ef7fa"
      },
      "execution_count": null,
      "outputs": [
        {
          "output_type": "execute_result",
          "data": {
            "text/plain": [
              "(False, True)"
            ]
          },
          "metadata": {},
          "execution_count": 4
        }
      ]
    },
    {
      "cell_type": "markdown",
      "source": [
        "### Integer - číselný typ prezentovaný ako celé číslo"
      ],
      "metadata": {
        "id": "zCnUi-L7n8W5"
      }
    },
    {
      "cell_type": "code",
      "source": [
        "x = 2\n",
        "print(x)\n",
        "display(type(x))"
      ],
      "metadata": {
        "colab": {
          "base_uri": "https://localhost:8080/"
        },
        "id": "Hdmt7AqKnoKT",
        "outputId": "ad38b0de-bdcd-4cdc-f40a-1edc6680c556"
      },
      "execution_count": null,
      "outputs": [
        {
          "output_type": "stream",
          "name": "stdout",
          "text": [
            "2\n"
          ]
        },
        {
          "output_type": "display_data",
          "data": {
            "text/plain": [
              "int"
            ]
          },
          "metadata": {}
        }
      ]
    },
    {
      "cell_type": "markdown",
      "source": [
        "#### Operácie"
      ],
      "metadata": {
        "id": "VxbqhCU9oG8o"
      }
    },
    {
      "cell_type": "code",
      "source": [
        "x += 1\n",
        "print(x)\n",
        "x -= 1\n",
        "print(x)\n",
        "x *= 2\n",
        "print(x)\n",
        "x /= 2\n",
        "print(x)\n",
        "x **= 2\n",
        "print(x)\n",
        "\n",
        "import math\n",
        "x = math.sqrt(x)\n",
        "print(x)"
      ],
      "metadata": {
        "colab": {
          "base_uri": "https://localhost:8080/"
        },
        "id": "WT3d5Y-zoJrs",
        "outputId": "1ec335fe-3cf9-4fca-9f24-e58fc2b30054"
      },
      "execution_count": null,
      "outputs": [
        {
          "output_type": "stream",
          "name": "stdout",
          "text": [
            "3\n",
            "2\n",
            "4\n",
            "2.0\n",
            "4.0\n",
            "2.0\n"
          ]
        }
      ]
    },
    {
      "cell_type": "markdown",
      "source": [
        "Zvyšok po delení, modulo"
      ],
      "metadata": {
        "id": "Oa9cwKuTLYe5"
      }
    },
    {
      "cell_type": "code",
      "source": [
        "25 % 4"
      ],
      "metadata": {
        "colab": {
          "base_uri": "https://localhost:8080/"
        },
        "id": "k3dpoU6rLcFq",
        "outputId": "bc44b931-8c82-4362-c684-42b3b6fbbb44"
      },
      "execution_count": null,
      "outputs": [
        {
          "output_type": "execute_result",
          "data": {
            "text/plain": [
              "1"
            ]
          },
          "metadata": {},
          "execution_count": 7
        }
      ]
    },
    {
      "cell_type": "markdown",
      "source": [
        "### Float - číselný typ prezentovaný ako desatinné číslo"
      ],
      "metadata": {
        "id": "7mekM5tcopl9"
      }
    },
    {
      "cell_type": "code",
      "source": [
        "x = 2.36\n",
        "print(x)\n",
        "type(x)"
      ],
      "metadata": {
        "colab": {
          "base_uri": "https://localhost:8080/"
        },
        "id": "qtl_3TLToXUf",
        "outputId": "714b0a1d-c4cf-444e-b79d-756d483b76b3"
      },
      "execution_count": null,
      "outputs": [
        {
          "output_type": "stream",
          "name": "stdout",
          "text": [
            "2.36\n"
          ]
        },
        {
          "output_type": "execute_result",
          "data": {
            "text/plain": [
              "float"
            ]
          },
          "metadata": {},
          "execution_count": 8
        }
      ]
    },
    {
      "cell_type": "markdown",
      "source": [
        "### Reťazec(String) - Typ textu | Syntax - „text“"
      ],
      "metadata": {
        "id": "byf03rN0o5pT"
      }
    },
    {
      "cell_type": "code",
      "source": [
        "string = \"KEE - Katedra Elektroenegetiky\"\n",
        "string = 'KEE - Katedra Elektroenegetiky'\n",
        "print(string)\n",
        "type(string)"
      ],
      "metadata": {
        "colab": {
          "base_uri": "https://localhost:8080/"
        },
        "id": "_JGK8IqGovZX",
        "outputId": "047f9253-b444-4a68-998d-5b5e5ad3d9b8"
      },
      "execution_count": null,
      "outputs": [
        {
          "output_type": "stream",
          "name": "stdout",
          "text": [
            "KEE - Katedra Elektroenegetiky\n"
          ]
        },
        {
          "output_type": "execute_result",
          "data": {
            "text/plain": [
              "str"
            ]
          },
          "metadata": {},
          "execution_count": 9
        }
      ]
    },
    {
      "cell_type": "markdown",
      "source": [
        "#### Operácie so stringom"
      ],
      "metadata": {
        "id": "LWb826pnpT7i"
      }
    },
    {
      "cell_type": "code",
      "source": [
        "string1 = \"some text\"\n",
        "string2 = 'some other text'"
      ],
      "metadata": {
        "id": "lcpUWtX6pFDE"
      },
      "execution_count": null,
      "outputs": []
    },
    {
      "cell_type": "markdown",
      "source": [
        "Znak na danom indexe"
      ],
      "metadata": {
        "id": "HdTJil5fpedv"
      }
    },
    {
      "cell_type": "code",
      "source": [
        "string1[3]"
      ],
      "metadata": {
        "colab": {
          "base_uri": "https://localhost:8080/"
        },
        "id": "_BGRp6kppaE6",
        "outputId": "35b2ea6b-6272-49ce-d4e2-02053cc13077"
      },
      "execution_count": null,
      "outputs": [
        {
          "output_type": "execute_result",
          "data": {
            "text/plain": [
              "'e'"
            ],
            "application/vnd.google.colaboratory.intrinsic+json": {
              "type": "string"
            }
          },
          "metadata": {},
          "execution_count": 11
        }
      ]
    },
    {
      "cell_type": "markdown",
      "source": [
        "Získanie podreťazca"
      ],
      "metadata": {
        "id": "xmENuDXypqpG"
      }
    },
    {
      "cell_type": "code",
      "source": [
        "string1[5:]"
      ],
      "metadata": {
        "colab": {
          "base_uri": "https://localhost:8080/"
        },
        "id": "wNFWaI9zpiGt",
        "outputId": "ec2726f5-c27c-490c-927a-e46c6b1b2a10"
      },
      "execution_count": null,
      "outputs": [
        {
          "output_type": "execute_result",
          "data": {
            "text/plain": [
              "'text'"
            ],
            "application/vnd.google.colaboratory.intrinsic+json": {
              "type": "string"
            }
          },
          "metadata": {},
          "execution_count": 12
        }
      ]
    },
    {
      "cell_type": "markdown",
      "source": [
        "Spojenie reťazcov"
      ],
      "metadata": {
        "id": "QPQ3JwiGpwjg"
      }
    },
    {
      "cell_type": "code",
      "source": [
        "display(string1 + \" and \" + string2)\n",
        "f'text {string1}'"
      ],
      "metadata": {
        "colab": {
          "base_uri": "https://localhost:8080/"
        },
        "id": "JW62v4nCpuxA",
        "outputId": "2c7b2a9c-449d-4f3b-c1db-212d3e8a0152"
      },
      "execution_count": null,
      "outputs": [
        {
          "output_type": "display_data",
          "data": {
            "text/plain": [
              "'some text and some other text'"
            ],
            "application/vnd.google.colaboratory.intrinsic+json": {
              "type": "string"
            }
          },
          "metadata": {}
        },
        {
          "output_type": "execute_result",
          "data": {
            "text/plain": [
              "'text some text'"
            ],
            "application/vnd.google.colaboratory.intrinsic+json": {
              "type": "string"
            }
          },
          "metadata": {},
          "execution_count": 13
        }
      ]
    },
    {
      "cell_type": "markdown",
      "source": [
        "Všetky znaky veľké, malé, prvý znak veľký"
      ],
      "metadata": {
        "id": "S7uFRdBrJMP6"
      }
    },
    {
      "cell_type": "code",
      "source": [
        "string.upper(), string.lower(), string.capitalize()"
      ],
      "metadata": {
        "colab": {
          "base_uri": "https://localhost:8080/"
        },
        "id": "yjEmx_3tJK90",
        "outputId": "58773d6d-1fa6-46c6-e355-25830bed76c3"
      },
      "execution_count": null,
      "outputs": [
        {
          "output_type": "execute_result",
          "data": {
            "text/plain": [
              "('KEE - KATEDRA ELEKTROENEGETIKY',\n",
              " 'kee - katedra elektroenegetiky',\n",
              " 'Kee - katedra elektroenegetiky')"
            ]
          },
          "metadata": {},
          "execution_count": 14
        }
      ]
    },
    {
      "cell_type": "markdown",
      "source": [
        "Počet znakov v reťazci"
      ],
      "metadata": {
        "id": "7NrpI3LBKAyq"
      }
    },
    {
      "cell_type": "code",
      "source": [
        "len(string)"
      ],
      "metadata": {
        "colab": {
          "base_uri": "https://localhost:8080/"
        },
        "id": "Hm0bMJEHKB-t",
        "outputId": "6134c782-07ca-48df-95a0-db055156db39"
      },
      "execution_count": null,
      "outputs": [
        {
          "output_type": "execute_result",
          "data": {
            "text/plain": [
              "30"
            ]
          },
          "metadata": {},
          "execution_count": 15
        }
      ]
    },
    {
      "cell_type": "markdown",
      "source": [
        "### List - 0 alebo viac položiek uložených ako jeden objekt; položky možno meniť, pridávať a odstraňovať | Syntax: [x,y,z]"
      ],
      "metadata": {
        "id": "rIRv2iLi5pBE"
      }
    },
    {
      "cell_type": "code",
      "source": [
        "l = [1,2,3,4,2,3,4,5,6,7,8,98]\n",
        "l, type(l)"
      ],
      "metadata": {
        "colab": {
          "base_uri": "https://localhost:8080/"
        },
        "id": "5-ORXF545u7Q",
        "outputId": "83df2381-0f63-4d2b-b992-f1d4e6abce5f"
      },
      "execution_count": null,
      "outputs": [
        {
          "output_type": "execute_result",
          "data": {
            "text/plain": [
              "([1, 2, 3, 4, 2, 3, 4, 5, 6, 7, 8, 98], list)"
            ]
          },
          "metadata": {},
          "execution_count": 16
        }
      ]
    },
    {
      "cell_type": "markdown",
      "source": [
        "#### Práca s listom"
      ],
      "metadata": {
        "id": "lqMTOkaX559X"
      }
    },
    {
      "cell_type": "markdown",
      "source": [
        "Výber prvého prvku"
      ],
      "metadata": {
        "id": "8jrLotHi6xY4"
      }
    },
    {
      "cell_type": "code",
      "source": [
        "l[0]"
      ],
      "metadata": {
        "colab": {
          "base_uri": "https://localhost:8080/"
        },
        "id": "ZvkX9gYg5yqW",
        "outputId": "4069a1fc-ba5e-412f-a1f3-d97183c6f634"
      },
      "execution_count": null,
      "outputs": [
        {
          "output_type": "execute_result",
          "data": {
            "text/plain": [
              "1"
            ]
          },
          "metadata": {},
          "execution_count": 17
        }
      ]
    },
    {
      "cell_type": "markdown",
      "source": [
        "Počet prvkov"
      ],
      "metadata": {
        "id": "DXrYZaR265lj"
      }
    },
    {
      "cell_type": "code",
      "source": [
        "len(l)"
      ],
      "metadata": {
        "colab": {
          "base_uri": "https://localhost:8080/"
        },
        "id": "-Hobf2uf67H6",
        "outputId": "462d3bb5-4ba0-4103-8cc4-3b0f8e08eaa0"
      },
      "execution_count": null,
      "outputs": [
        {
          "output_type": "execute_result",
          "data": {
            "text/plain": [
              "12"
            ]
          },
          "metadata": {},
          "execution_count": 18
        }
      ]
    },
    {
      "cell_type": "markdown",
      "source": [
        "Výber posledného prvku"
      ],
      "metadata": {
        "id": "U1vDuhZA7BHv"
      }
    },
    {
      "cell_type": "code",
      "source": [
        "l[-1]"
      ],
      "metadata": {
        "colab": {
          "base_uri": "https://localhost:8080/"
        },
        "id": "a6v55JE069VU",
        "outputId": "4d3415e0-cdf1-4cc6-ba06-4d3923e59628"
      },
      "execution_count": null,
      "outputs": [
        {
          "output_type": "execute_result",
          "data": {
            "text/plain": [
              "98"
            ]
          },
          "metadata": {},
          "execution_count": 19
        }
      ]
    },
    {
      "cell_type": "markdown",
      "source": [
        "Pridanie prvku"
      ],
      "metadata": {
        "id": "S9m17fBP7UJd"
      }
    },
    {
      "cell_type": "code",
      "source": [
        "l.append(10)\n",
        "l"
      ],
      "metadata": {
        "colab": {
          "base_uri": "https://localhost:8080/"
        },
        "id": "GkwSGgSl7EqG",
        "outputId": "1d3c5b17-9f46-49eb-d751-6cf08e1948e7"
      },
      "execution_count": null,
      "outputs": [
        {
          "output_type": "execute_result",
          "data": {
            "text/plain": [
              "[1, 2, 3, 4, 2, 3, 4, 5, 6, 7, 8, 98, 10]"
            ]
          },
          "metadata": {},
          "execution_count": 20
        }
      ]
    },
    {
      "cell_type": "markdown",
      "source": [
        "Vymazanie n-tého prvku"
      ],
      "metadata": {
        "id": "K1_dLY0U7eJ9"
      }
    },
    {
      "cell_type": "code",
      "source": [
        "l.pop(2)\n",
        "l"
      ],
      "metadata": {
        "colab": {
          "base_uri": "https://localhost:8080/"
        },
        "id": "cs5adXMs7XvD",
        "outputId": "7eb69771-e116-47d2-ded1-c90a782f1411"
      },
      "execution_count": null,
      "outputs": [
        {
          "output_type": "execute_result",
          "data": {
            "text/plain": [
              "[1, 2, 4, 2, 3, 4, 5, 6, 7, 8, 98, 10]"
            ]
          },
          "metadata": {},
          "execution_count": 21
        }
      ]
    },
    {
      "cell_type": "markdown",
      "source": [
        "K časti listu môžeme pristupovať pomocou my_list[i:j], kde i je začiatok plátku (indexovanie opäť začína od 0) a j koniec plátku. Napríklad:"
      ],
      "metadata": {
        "id": "hKHbYh8_7rrG"
      }
    },
    {
      "cell_type": "code",
      "source": [
        "l[1:1], l[0:2], l[1:-1], l[1:-2]"
      ],
      "metadata": {
        "colab": {
          "base_uri": "https://localhost:8080/"
        },
        "id": "BX5AGBbU8IM4",
        "outputId": "77b29e3e-cbd7-4244-b510-156d8b102d64"
      },
      "execution_count": null,
      "outputs": [
        {
          "output_type": "execute_result",
          "data": {
            "text/plain": [
              "([], [1, 2], [2, 4, 2, 3, 4, 5, 6, 7, 8, 98], [2, 4, 2, 3, 4, 5, 6, 7, 8])"
            ]
          },
          "metadata": {},
          "execution_count": 22
        }
      ]
    },
    {
      "cell_type": "markdown",
      "source": [
        "Súčet všetkých prvkov"
      ],
      "metadata": {
        "id": "Vjs0duuhDz-g"
      }
    },
    {
      "cell_type": "code",
      "source": [
        "sum(l)"
      ],
      "metadata": {
        "colab": {
          "base_uri": "https://localhost:8080/"
        },
        "id": "pBscvSWsD5pw",
        "outputId": "4504543b-62a4-429b-c709-25c8a85564dd"
      },
      "execution_count": null,
      "outputs": [
        {
          "output_type": "execute_result",
          "data": {
            "text/plain": [
              "150"
            ]
          },
          "metadata": {},
          "execution_count": 23
        }
      ]
    },
    {
      "cell_type": "markdown",
      "source": [
        "Najväčší prvok a najmenší prvok"
      ],
      "metadata": {
        "id": "OCEqwt0RIUQY"
      }
    },
    {
      "cell_type": "code",
      "source": [
        "max(l), min(l)"
      ],
      "metadata": {
        "colab": {
          "base_uri": "https://localhost:8080/"
        },
        "id": "XmEsAq6NIaV0",
        "outputId": "0e8043b5-6d3d-4ad9-8700-7029a44da46d"
      },
      "execution_count": null,
      "outputs": [
        {
          "output_type": "execute_result",
          "data": {
            "text/plain": [
              "(98, 1)"
            ]
          },
          "metadata": {},
          "execution_count": 24
        }
      ]
    },
    {
      "cell_type": "markdown",
      "source": [
        "Usporiadanie listu"
      ],
      "metadata": {
        "id": "qhPdZ8Vo9UqA"
      }
    },
    {
      "cell_type": "code",
      "source": [
        "l.sort(reverse=True)\n",
        "display(l)\n",
        "l.sort(reverse=False)\n",
        "l"
      ],
      "metadata": {
        "colab": {
          "base_uri": "https://localhost:8080/"
        },
        "id": "z_hL3rZs9jRG",
        "outputId": "03b1cbab-e2b2-4a4c-dfdf-afa6a6750efc"
      },
      "execution_count": null,
      "outputs": [
        {
          "output_type": "display_data",
          "data": {
            "text/plain": [
              "[98, 10, 8, 7, 6, 5, 4, 4, 3, 2, 2, 1]"
            ]
          },
          "metadata": {}
        },
        {
          "output_type": "execute_result",
          "data": {
            "text/plain": [
              "[1, 2, 2, 3, 4, 4, 5, 6, 7, 8, 10, 98]"
            ]
          },
          "metadata": {},
          "execution_count": 25
        }
      ]
    },
    {
      "cell_type": "markdown",
      "source": [
        "### Dictionary - 0 alebo viac položiek vzájomne mapovaných v štruktúre kľúč-atribút | Syntax: {kľúč:atribút}"
      ],
      "metadata": {
        "id": "OJvo5elc-P8F"
      }
    },
    {
      "cell_type": "code",
      "source": [
        "d = {\n",
        "    \"name\": \"John\",\n",
        "    \"surname\": \"Smith\",\n",
        "    \"age\" : 25,\n",
        "    \"is_married\": True,\n",
        "    \"children\": [\"Alice\", \"Bob\"],\n",
        "}\n",
        "d2 = {\n",
        "    \"name\": \"Mathew\",\n",
        "    \"surname\": \"Smith\",\n",
        "    \"age\" : 20,\n",
        "    \"is_married\": False,\n",
        "    \"children\": [],\n",
        "}\n",
        "d, d2"
      ],
      "metadata": {
        "colab": {
          "base_uri": "https://localhost:8080/"
        },
        "id": "6RAFUMxu9kWR",
        "outputId": "86019c4c-2a22-47e5-e43a-d85ab7690e37"
      },
      "execution_count": null,
      "outputs": [
        {
          "output_type": "execute_result",
          "data": {
            "text/plain": [
              "({'name': 'John',\n",
              "  'surname': 'Smith',\n",
              "  'age': 25,\n",
              "  'is_married': True,\n",
              "  'children': ['Alice', 'Bob']},\n",
              " {'name': 'Mathew',\n",
              "  'surname': 'Smith',\n",
              "  'age': 20,\n",
              "  'is_married': False,\n",
              "  'children': []})"
            ]
          },
          "metadata": {},
          "execution_count": 26
        }
      ]
    },
    {
      "cell_type": "markdown",
      "source": [
        "Hodnota kľúča \"name\" v dictionary d"
      ],
      "metadata": {
        "id": "DuO8P-yfRB2s"
      }
    },
    {
      "cell_type": "code",
      "source": [
        "d[\"name\"]"
      ],
      "metadata": {
        "colab": {
          "base_uri": "https://localhost:8080/"
        },
        "id": "0hIBwsa8RME3",
        "outputId": "6f6185f5-b4fa-49e9-9b95-8c83fa205412"
      },
      "execution_count": null,
      "outputs": [
        {
          "output_type": "execute_result",
          "data": {
            "text/plain": [
              "'John'"
            ],
            "application/vnd.google.colaboratory.intrinsic+json": {
              "type": "string"
            }
          },
          "metadata": {},
          "execution_count": 27
        }
      ]
    },
    {
      "cell_type": "code",
      "source": [
        "list_d = [d, d2]\n",
        "list_d"
      ],
      "metadata": {
        "colab": {
          "base_uri": "https://localhost:8080/"
        },
        "id": "lnLgxNKI-26n",
        "outputId": "684ef351-9159-446b-b5f9-cc621636dc46"
      },
      "execution_count": null,
      "outputs": [
        {
          "output_type": "execute_result",
          "data": {
            "text/plain": [
              "[{'name': 'John',\n",
              "  'surname': 'Smith',\n",
              "  'age': 25,\n",
              "  'is_married': True,\n",
              "  'children': ['Alice', 'Bob']},\n",
              " {'name': 'Mathew',\n",
              "  'surname': 'Smith',\n",
              "  'age': 20,\n",
              "  'is_married': False,\n",
              "  'children': []}]"
            ]
          },
          "metadata": {},
          "execution_count": 28
        }
      ]
    },
    {
      "cell_type": "code",
      "source": [
        "list_d.sort(key=lambda item: item['age'], reverse=True)\n",
        "list_d"
      ],
      "metadata": {
        "colab": {
          "base_uri": "https://localhost:8080/"
        },
        "id": "nT-dkPwj_48B",
        "outputId": "2b1232e7-671b-4d54-bf87-db4038675556"
      },
      "execution_count": null,
      "outputs": [
        {
          "output_type": "execute_result",
          "data": {
            "text/plain": [
              "[{'name': 'John',\n",
              "  'surname': 'Smith',\n",
              "  'age': 25,\n",
              "  'is_married': True,\n",
              "  'children': ['Alice', 'Bob']},\n",
              " {'name': 'Mathew',\n",
              "  'surname': 'Smith',\n",
              "  'age': 20,\n",
              "  'is_married': False,\n",
              "  'children': []}]"
            ]
          },
          "metadata": {},
          "execution_count": 29
        }
      ]
    },
    {
      "cell_type": "markdown",
      "source": [
        "### Set - 0 alebo viac položiek uložených ako jeden objekt, položky v sade nemožno meniť, ale možno pridávať nové položky; žiadne duplikáty"
      ],
      "metadata": {
        "id": "xlpkoRURALg4"
      }
    },
    {
      "cell_type": "code",
      "source": [
        "s = {\n",
        "    \"New Orleans\",\n",
        "    \"Louisiana\",\n",
        "    \"NOLA\",\n",
        "    \"New Orleans\"\n",
        "    }\n",
        "s"
      ],
      "metadata": {
        "colab": {
          "base_uri": "https://localhost:8080/"
        },
        "id": "70FhT9GVANj2",
        "outputId": "0751b399-2745-4183-8c5a-495781056e12"
      },
      "execution_count": null,
      "outputs": [
        {
          "output_type": "execute_result",
          "data": {
            "text/plain": [
              "{'Louisiana', 'NOLA', 'New Orleans'}"
            ]
          },
          "metadata": {},
          "execution_count": 30
        }
      ]
    },
    {
      "cell_type": "markdown",
      "source": [
        "Pridanie prvku do setu"
      ],
      "metadata": {
        "id": "C_H04uTYBEpu"
      }
    },
    {
      "cell_type": "code",
      "source": [
        "s.add(\"Texas\")\n",
        "s"
      ],
      "metadata": {
        "colab": {
          "base_uri": "https://localhost:8080/"
        },
        "id": "6PJ6IaGPAxBg",
        "outputId": "79198b8d-5333-4122-d681-c577ca7d1881"
      },
      "execution_count": null,
      "outputs": [
        {
          "output_type": "execute_result",
          "data": {
            "text/plain": [
              "{'Louisiana', 'NOLA', 'New Orleans', 'Texas'}"
            ]
          },
          "metadata": {},
          "execution_count": 31
        }
      ]
    },
    {
      "cell_type": "markdown",
      "source": [
        "Duplikátny prvok sa do setu nepridá"
      ],
      "metadata": {
        "id": "Ldpm6CPIBHck"
      }
    },
    {
      "cell_type": "code",
      "source": [
        "s.add(\"Texas\")\n",
        "s"
      ],
      "metadata": {
        "colab": {
          "base_uri": "https://localhost:8080/"
        },
        "id": "K2GHx2KRBBOW",
        "outputId": "2c6a3e5c-abc4-4a2c-9c80-befaca719d06"
      },
      "execution_count": null,
      "outputs": [
        {
          "output_type": "execute_result",
          "data": {
            "text/plain": [
              "{'Louisiana', 'NOLA', 'New Orleans', 'Texas'}"
            ]
          },
          "metadata": {},
          "execution_count": 32
        }
      ]
    },
    {
      "cell_type": "markdown",
      "source": [
        "Výber zo setu"
      ],
      "metadata": {
        "id": "DzUkafDCBXQi"
      }
    },
    {
      "cell_type": "code",
      "source": [
        "# prompt: get item from set on specific index\n",
        "list(s)[1:3]"
      ],
      "metadata": {
        "colab": {
          "base_uri": "https://localhost:8080/"
        },
        "id": "aKKCy8KEBaPW",
        "outputId": "3c834d2b-e075-4c25-80b1-963e6ae2778d"
      },
      "execution_count": null,
      "outputs": [
        {
          "output_type": "execute_result",
          "data": {
            "text/plain": [
              "['Texas', 'NOLA']"
            ]
          },
          "metadata": {},
          "execution_count": 33
        }
      ]
    },
    {
      "cell_type": "markdown",
      "source": [
        "Usporiadanie setu"
      ],
      "metadata": {
        "id": "XwcTMJ-iBNvA"
      }
    },
    {
      "cell_type": "code",
      "source": [
        "sorted(s, reverse=True)"
      ],
      "metadata": {
        "colab": {
          "base_uri": "https://localhost:8080/"
        },
        "id": "A4ah2dBnAzgC",
        "outputId": "194f14a9-21a6-4f23-b831-11f81ca4134a"
      },
      "execution_count": null,
      "outputs": [
        {
          "output_type": "execute_result",
          "data": {
            "text/plain": [
              "['Texas', 'New Orleans', 'NOLA', 'Louisiana']"
            ]
          },
          "metadata": {},
          "execution_count": 34
        }
      ]
    },
    {
      "cell_type": "markdown",
      "source": [
        "### Tuple - 0 alebo viac položiek uložených ako jeden objekt, položky v tuple nemožno meniť a nemožno pridávať nové položky"
      ],
      "metadata": {
        "id": "fes95RcDB-Se"
      }
    },
    {
      "cell_type": "code",
      "source": [
        "t = (0, 12, 1, 1834)\n",
        "t, type(t)"
      ],
      "metadata": {
        "colab": {
          "base_uri": "https://localhost:8080/"
        },
        "id": "DDrnM08yB75E",
        "outputId": "83e0785c-ea08-41be-d1a5-010003904c25"
      },
      "execution_count": null,
      "outputs": [
        {
          "output_type": "execute_result",
          "data": {
            "text/plain": [
              "((0, 12, 1, 1834), tuple)"
            ]
          },
          "metadata": {},
          "execution_count": 35
        }
      ]
    },
    {
      "cell_type": "code",
      "source": [
        "t[1]"
      ],
      "metadata": {
        "colab": {
          "base_uri": "https://localhost:8080/"
        },
        "id": "sVYE6SGTCG7o",
        "outputId": "7f94739c-fd30-4b87-e50c-d44e10cfabda"
      },
      "execution_count": null,
      "outputs": [
        {
          "output_type": "execute_result",
          "data": {
            "text/plain": [
              "12"
            ]
          },
          "metadata": {},
          "execution_count": 36
        }
      ]
    },
    {
      "cell_type": "code",
      "source": [
        "tuple(sorted(t))"
      ],
      "metadata": {
        "colab": {
          "base_uri": "https://localhost:8080/"
        },
        "id": "OhHjsDuFCIeP",
        "outputId": "6455ec55-8d1f-4ce7-de52-542233acdea0"
      },
      "execution_count": null,
      "outputs": [
        {
          "output_type": "execute_result",
          "data": {
            "text/plain": [
              "(0, 1, 12, 1834)"
            ]
          },
          "metadata": {},
          "execution_count": 37
        }
      ]
    },
    {
      "cell_type": "markdown",
      "source": [
        "## Podmienky"
      ],
      "metadata": {
        "id": "8g1XuURiCr4g"
      }
    },
    {
      "cell_type": "markdown",
      "source": [
        "Ako naznačuje ich názov, podmienené príkazy predstavujú spôsob vykonávania kódu v závislosti od toho, či je podmienka True alebo False. Podobne ako v iných jazykoch, aj Python podporuje if a else, ale else if sa skracuje na elif, ako ukazuje príklad nižšie."
      ],
      "metadata": {
        "id": "rrDMp23rCui3"
      }
    },
    {
      "cell_type": "code",
      "source": [
        "my_variable = 5\n",
        "if my_variable < 0:\n",
        "  print(\"negative\")\n",
        "elif my_variable == 0:\n",
        "  print(\"null\")\n",
        "else: # my_variable > 0\n",
        "  print(\"positive\")"
      ],
      "metadata": {
        "colab": {
          "base_uri": "https://localhost:8080/"
        },
        "id": "3irBYONtCKRI",
        "outputId": "5957a17a-2410-470d-fa4a-470689f4cd6a"
      },
      "execution_count": null,
      "outputs": [
        {
          "output_type": "stream",
          "name": "stdout",
          "text": [
            "positive\n"
          ]
        }
      ]
    },
    {
      "cell_type": "code",
      "source": [
        "my_variable = 0\n",
        "if my_variable < 0:\n",
        "  print(\"negative\")\n",
        "elif my_variable == 0:\n",
        "  print(\"null\")\n",
        "else: # my_variable > 0\n",
        "  print(\"positive\")"
      ],
      "metadata": {
        "colab": {
          "base_uri": "https://localhost:8080/"
        },
        "id": "hVieRX6fCzSj",
        "outputId": "875b6ce3-7b70-45b3-bfdf-1e93db2de8a1"
      },
      "execution_count": null,
      "outputs": [
        {
          "output_type": "stream",
          "name": "stdout",
          "text": [
            "null\n"
          ]
        }
      ]
    },
    {
      "cell_type": "code",
      "source": [
        "my_variable = -1\n",
        "if my_variable < 0:\n",
        "  print(\"negative\")\n",
        "elif my_variable == 0:\n",
        "  print(\"null\")\n",
        "else: # my_variable > 0\n",
        "  print(\"positive\")"
      ],
      "metadata": {
        "colab": {
          "base_uri": "https://localhost:8080/"
        },
        "id": "MM_ibMNlC1cE",
        "outputId": "670d495e-4d3a-4a7f-d08a-c91b6711c599"
      },
      "execution_count": null,
      "outputs": [
        {
          "output_type": "stream",
          "name": "stdout",
          "text": [
            "negative\n"
          ]
        }
      ]
    },
    {
      "cell_type": "markdown",
      "source": [
        "Je prvok v liste?"
      ],
      "metadata": {
        "id": "iz_hCb7LEYVu"
      }
    },
    {
      "cell_type": "code",
      "source": [
        "1 in l"
      ],
      "metadata": {
        "colab": {
          "base_uri": "https://localhost:8080/"
        },
        "id": "SUFIGM6XEbaI",
        "outputId": "fbdccdbc-6879-4600-89b8-529989b95c9b"
      },
      "execution_count": null,
      "outputs": [
        {
          "output_type": "execute_result",
          "data": {
            "text/plain": [
              "True"
            ]
          },
          "metadata": {},
          "execution_count": 41
        }
      ]
    },
    {
      "cell_type": "markdown",
      "source": [
        "Nie je znak v stringu?"
      ],
      "metadata": {
        "id": "R7r9ftbAEfQB"
      }
    },
    {
      "cell_type": "code",
      "source": [
        "\"s\" not in string"
      ],
      "metadata": {
        "colab": {
          "base_uri": "https://localhost:8080/"
        },
        "id": "ThMYxlZAEigR",
        "outputId": "0136ea0c-e73a-4a6c-b77e-4fa37b995a01"
      },
      "execution_count": null,
      "outputs": [
        {
          "output_type": "execute_result",
          "data": {
            "text/plain": [
              "True"
            ]
          },
          "metadata": {},
          "execution_count": 42
        }
      ]
    },
    {
      "cell_type": "markdown",
      "source": [
        "Má prvok hodnotu?"
      ],
      "metadata": {
        "id": "MLNCHcxREm4p"
      }
    },
    {
      "cell_type": "code",
      "source": [
        "string is not None"
      ],
      "metadata": {
        "colab": {
          "base_uri": "https://localhost:8080/"
        },
        "id": "9rsR-qG1EvdN",
        "outputId": "484f1a00-e41b-4d29-e20d-4cd87899972e"
      },
      "execution_count": null,
      "outputs": [
        {
          "output_type": "execute_result",
          "data": {
            "text/plain": [
              "True"
            ]
          },
          "metadata": {},
          "execution_count": 43
        }
      ]
    },
    {
      "cell_type": "markdown",
      "source": [
        "Su stringy rovnaké?"
      ],
      "metadata": {
        "id": "vwRuhkaIFA_d"
      }
    },
    {
      "cell_type": "code",
      "source": [
        "\"some text\" == string"
      ],
      "metadata": {
        "colab": {
          "base_uri": "https://localhost:8080/"
        },
        "id": "uNWZ_PF_E4wc",
        "outputId": "bb8af22b-b881-4b99-ccdf-ece2fbae442f"
      },
      "execution_count": null,
      "outputs": [
        {
          "output_type": "execute_result",
          "data": {
            "text/plain": [
              "False"
            ]
          },
          "metadata": {},
          "execution_count": 44
        }
      ]
    },
    {
      "cell_type": "markdown",
      "source": [
        "< a > sú striktné operátory menšie a väčšie ako, zatiaľ čo == je operátor rovnosti (nemýliť si s =, operátorom priradenia premennej). Operátory <= a >= možno použiť na porovnávanie menšieho (resp. väčšieho) ako alebo rovnakého."
      ],
      "metadata": {
        "id": "YdgYbZ9fDI2T"
      }
    },
    {
      "cell_type": "markdown",
      "source": [
        "Na rozdiel od iných jazykov sa bloky kódu oddeľujú pomocou odsadenia. Tu používame odsadenie na 2 medzery, ale mnohí programátori používajú aj odsadenie na 4 medzery. Ktorékoľvek z nich je v poriadku, pokiaľ ste v celom kóde konzistentní."
      ],
      "metadata": {
        "id": "YsZ1qm_7EBSI"
      }
    },
    {
      "cell_type": "markdown",
      "source": [
        "## Cykly"
      ],
      "metadata": {
        "id": "ljUtTwybEIuo"
      }
    },
    {
      "cell_type": "markdown",
      "source": [
        "Slučky predstavujú spôsob viacnásobného vykonania bloku kódu. Existujú dva hlavné typy cyklov: cykly while a cykly for."
      ],
      "metadata": {
        "id": "itsMJsjKFK5A"
      }
    },
    {
      "cell_type": "markdown",
      "source": [
        "#### While cyklus"
      ],
      "metadata": {
        "id": "hnC5TaSfFbZZ"
      }
    },
    {
      "cell_type": "code",
      "source": [
        "i = 0\n",
        "while i < len(l):\n",
        "  print(l[i])\n",
        "  i += 1"
      ],
      "metadata": {
        "colab": {
          "base_uri": "https://localhost:8080/"
        },
        "id": "xyuZ6n3cDrjU",
        "outputId": "e029cebd-b58a-4b46-9c6e-16e97f05c3cd"
      },
      "execution_count": null,
      "outputs": [
        {
          "output_type": "stream",
          "name": "stdout",
          "text": [
            "1\n",
            "2\n",
            "2\n",
            "3\n",
            "4\n",
            "4\n",
            "5\n",
            "6\n",
            "7\n",
            "8\n",
            "10\n",
            "98\n"
          ]
        }
      ]
    },
    {
      "cell_type": "markdown",
      "source": [
        "#### For cyklus naprieč indexami"
      ],
      "metadata": {
        "id": "96q81wX0FiSD"
      }
    },
    {
      "cell_type": "code",
      "source": [
        "for i in range(100, 0, -5):\n",
        "  print(i)"
      ],
      "metadata": {
        "colab": {
          "base_uri": "https://localhost:8080/"
        },
        "id": "wo8NGLL2FguK",
        "outputId": "f2fc460a-bc1d-4849-a132-b12cf39eeae8"
      },
      "execution_count": null,
      "outputs": [
        {
          "output_type": "stream",
          "name": "stdout",
          "text": [
            "100\n",
            "95\n",
            "90\n",
            "85\n",
            "80\n",
            "75\n",
            "70\n",
            "65\n",
            "60\n",
            "55\n",
            "50\n",
            "45\n",
            "40\n",
            "35\n",
            "30\n",
            "25\n",
            "20\n",
            "15\n",
            "10\n",
            "5\n"
          ]
        }
      ]
    },
    {
      "cell_type": "markdown",
      "source": [
        "#### For cyklus naprieč prvkami"
      ],
      "metadata": {
        "id": "KNlQbz2kF4v1"
      }
    },
    {
      "cell_type": "code",
      "source": [
        "for item in l:\n",
        "  print(item)"
      ],
      "metadata": {
        "colab": {
          "base_uri": "https://localhost:8080/"
        },
        "id": "RHVfDmv9FtbM",
        "outputId": "766e3705-aeed-44e4-967c-0f54c3106c36"
      },
      "execution_count": null,
      "outputs": [
        {
          "output_type": "stream",
          "name": "stdout",
          "text": [
            "1\n",
            "2\n",
            "2\n",
            "3\n",
            "4\n",
            "4\n",
            "5\n",
            "6\n",
            "7\n",
            "8\n",
            "10\n",
            "98\n"
          ]
        }
      ]
    },
    {
      "cell_type": "markdown",
      "source": [
        "#### Jednoriadkový for cyklus, pre prácu s listami"
      ],
      "metadata": {
        "id": "82es8Z8FF7sB"
      }
    },
    {
      "cell_type": "markdown",
      "source": [
        "Pretypovanie všetkých prvkov na stringy, reťazce"
      ],
      "metadata": {
        "id": "E3AeU2NxGRpF"
      }
    },
    {
      "cell_type": "code",
      "source": [
        "display(l)\n",
        "[str(item) for item in l]"
      ],
      "metadata": {
        "colab": {
          "base_uri": "https://localhost:8080/"
        },
        "id": "QfpmcajBFxsA",
        "outputId": "0aff1495-e0c4-43de-aa13-c8ebf5ef8c58"
      },
      "execution_count": null,
      "outputs": [
        {
          "output_type": "display_data",
          "data": {
            "text/plain": [
              "[1, 2, 2, 3, 4, 4, 5, 6, 7, 8, 10, 98]"
            ]
          },
          "metadata": {}
        },
        {
          "output_type": "execute_result",
          "data": {
            "text/plain": [
              "['1', '2', '2', '3', '4', '4', '5', '6', '7', '8', '10', '98']"
            ]
          },
          "metadata": {},
          "execution_count": 48
        }
      ]
    },
    {
      "cell_type": "markdown",
      "source": [
        "Pretypovanie prvkov menšich ako 5 na stringy, reťazce"
      ],
      "metadata": {
        "id": "LoP7reoSGnIW"
      }
    },
    {
      "cell_type": "code",
      "source": [
        "[str(item) for item in l if item < 5]"
      ],
      "metadata": {
        "colab": {
          "base_uri": "https://localhost:8080/"
        },
        "id": "1SBON6QGGG1F",
        "outputId": "a167ff32-a3ee-4a83-c291-b05ba1d36ee7"
      },
      "execution_count": null,
      "outputs": [
        {
          "output_type": "execute_result",
          "data": {
            "text/plain": [
              "['1', '2', '2', '3', '4', '4']"
            ]
          },
          "metadata": {},
          "execution_count": 49
        }
      ]
    },
    {
      "cell_type": "code",
      "source": [
        "[str(item) if item < 5 else \"5\" for item in l]"
      ],
      "metadata": {
        "colab": {
          "base_uri": "https://localhost:8080/"
        },
        "id": "fdb_kHz8Gf90",
        "outputId": "7869163c-d767-4e1e-b5a7-b8dec4c4ab64"
      },
      "execution_count": null,
      "outputs": [
        {
          "output_type": "execute_result",
          "data": {
            "text/plain": [
              "['1', '2', '2', '3', '4', '4', '5', '5', '5', '5', '5', '5']"
            ]
          },
          "metadata": {},
          "execution_count": 50
        }
      ]
    },
    {
      "cell_type": "markdown",
      "source": [
        "## Funkcie"
      ],
      "metadata": {
        "id": "H66SoEFhHdUo"
      }
    },
    {
      "cell_type": "markdown",
      "source": [
        "Na zlepšenie čitateľnosti kódu je bežné rozdeliť kód do rôznych blokov, ktoré sú zodpovedné za vykonávanie presných činností: funkcií. Funkcia prijíma nejaké vstupy a spracúva ich, aby vrátila nejaké výstupy."
      ],
      "metadata": {
        "id": "0GtI6xyZHg_n"
      }
    },
    {
      "cell_type": "code",
      "source": [
        "def square(x):\n",
        "  return x**2"
      ],
      "metadata": {
        "id": "xxz8_ldeGzAB"
      },
      "execution_count": null,
      "outputs": []
    },
    {
      "cell_type": "code",
      "source": [
        "square(5)"
      ],
      "metadata": {
        "colab": {
          "base_uri": "https://localhost:8080/"
        },
        "id": "hq2i4Gm0H4B0",
        "outputId": "8f7d25d7-cb2f-4a65-d221-0553cde3797f"
      },
      "execution_count": null,
      "outputs": [
        {
          "output_type": "execute_result",
          "data": {
            "text/plain": [
              "25"
            ]
          },
          "metadata": {},
          "execution_count": 52
        }
      ]
    },
    {
      "cell_type": "code",
      "source": [
        "def multiply(a, b):\n",
        "  return a*b"
      ],
      "metadata": {
        "id": "-n5IcXIRH5gM"
      },
      "execution_count": null,
      "outputs": []
    },
    {
      "cell_type": "code",
      "source": [
        "multiply(2, 3)"
      ],
      "metadata": {
        "colab": {
          "base_uri": "https://localhost:8080/"
        },
        "id": "uIunWeW5H8cE",
        "outputId": "bfd3e135-4b0d-4174-e24c-055ce69ab485"
      },
      "execution_count": null,
      "outputs": [
        {
          "output_type": "execute_result",
          "data": {
            "text/plain": [
              "6"
            ]
          },
          "metadata": {},
          "execution_count": 54
        }
      ]
    },
    {
      "cell_type": "code",
      "source": [
        "square(x=multiply(a=2, b=3))"
      ],
      "metadata": {
        "colab": {
          "base_uri": "https://localhost:8080/"
        },
        "id": "JIbb57W3H9uO",
        "outputId": "c8c408b2-5b8d-4816-f4fb-552dc47624f2"
      },
      "execution_count": null,
      "outputs": [
        {
          "output_type": "execute_result",
          "data": {
            "text/plain": [
              "36"
            ]
          },
          "metadata": {},
          "execution_count": 55
        }
      ]
    },
    {
      "cell_type": "markdown",
      "source": [
        "# Príklad 6.1"
      ],
      "metadata": {
        "id": "1rFBICKnRWiw"
      }
    },
    {
      "cell_type": "markdown",
      "source": [
        "Vytvorte funkciu, ktorá pomocou for cyklu vytvorí pre každého supliera celkovú cenu, a priraďťe túto hodnotu do dictionary daného usera pod kľúčom \"total_price\""
      ],
      "metadata": {
        "id": "OLIc7BivR2e5"
      }
    },
    {
      "cell_type": "code",
      "source": [
        "supply_bids = [\n",
        "    {\"supplier\": \"Supplier A\", \"price\": 30, \"quantity\": 100},\n",
        "    {\"supplier\": \"Supplier B\", \"price\": 35, \"quantity\": 150},\n",
        "    {\"supplier\": \"Supplier C\", \"price\": 40, \"quantity\": 200},\n",
        "    {\"supplier\": \"Supplier D\", \"price\": 45, \"quantity\": 120},\n",
        "    {\"supplier\": \"Supplier E\", \"price\": 50, \"quantity\": 80}\n",
        "]"
      ],
      "metadata": {
        "id": "wlKgCwh4Odh-"
      },
      "execution_count": null,
      "outputs": []
    },
    {
      "cell_type": "code",
      "source": [
        "def total_cost(supply_bids):\n",
        "    for supplier in supply_bids:\n",
        "        supplier[\"total_price\"] = supplier[\"price\"] * supplier[\"quantity\"]\n",
        "    return supply_bids"
      ],
      "metadata": {
        "id": "MiKLpNH2RzCR"
      },
      "execution_count": null,
      "outputs": []
    },
    {
      "cell_type": "code",
      "source": [
        "total_cost(supply_bids)"
      ],
      "metadata": {
        "colab": {
          "base_uri": "https://localhost:8080/"
        },
        "id": "pkqMlsPTSHAW",
        "outputId": "668f7c1e-f7d2-4d9b-b117-a3f6c4fa7ea1"
      },
      "execution_count": null,
      "outputs": [
        {
          "output_type": "execute_result",
          "data": {
            "text/plain": [
              "[{'supplier': 'Supplier A', 'price': 30, 'quantity': 100, 'total_price': 3000},\n",
              " {'supplier': 'Supplier B', 'price': 35, 'quantity': 150, 'total_price': 5250},\n",
              " {'supplier': 'Supplier C', 'price': 40, 'quantity': 200, 'total_price': 8000},\n",
              " {'supplier': 'Supplier D', 'price': 45, 'quantity': 120, 'total_price': 5400},\n",
              " {'supplier': 'Supplier E', 'price': 50, 'quantity': 80, 'total_price': 4000}]"
            ]
          },
          "metadata": {},
          "execution_count": 5
        }
      ]
    }
  ]
}